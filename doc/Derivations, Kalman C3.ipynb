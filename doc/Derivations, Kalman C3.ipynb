{
 "cells": [
  {
   "cell_type": "code",
   "execution_count": 2,
   "metadata": {
    "collapsed": false
   },
   "outputs": [
    {
     "name": "stdout",
     "output_type": "stream",
     "text": [
      "IPython console for SymPy 0.7.6.1 (Python 3.5.0-64-bit) (ground types: python)\n",
      "\n",
      "These commands were executed:\n",
      ">>> from __future__ import division\n",
      ">>> from sympy import *\n",
      ">>> x, y, z, t = symbols('x y z t')\n",
      ">>> k, m, n = symbols('k m n', integer=True)\n",
      ">>> f, g, h = symbols('f g h', cls=Function)\n",
      ">>> init_printing()\n",
      "\n",
      "Documentation can be found at http://www.sympy.org\n"
     ]
    }
   ],
   "source": [
    "from sympy import *\n",
    "init_session()\n"
   ]
  },
  {
   "cell_type": "code",
   "execution_count": 9,
   "metadata": {
    "collapsed": false
   },
   "outputs": [
    {
     "data": {
      "image/png": "[encoded data removed]",
      "text/latex": [
       "$$\\left[\\begin{matrix}\\sqrt{10^{tx - x}}\\\\0\\end{matrix}\\right]$$"
      ],
      "text/plain": [
       "⎡   __________⎤\n",
       "⎢  ╱   tx - x ⎥\n",
       "⎢╲╱  10       ⎥\n",
       "⎢             ⎥\n",
       "⎣      0      ⎦"
      ]
     },
     "execution_count": 9,
     "metadata": {},
     "output_type": "execute_result"
    }
   ],
   "source": [
    "tx = Symbol(\"tx\")\n",
    "H = Matrix([sqrt(10**(tx-x)),0])\n",
    "H"
   ]
  },
  {
   "cell_type": "code",
   "execution_count": 1,
   "metadata": {
    "collapsed": false
   },
   "outputs": [
    {
     "name": "stdout",
     "output_type": "stream",
     "text": [
      "IPython console for SymPy 0.7.6.1 (Python 3.5.0-64-bit) (ground types: python)\n",
      "\n",
      "These commands were executed:\n",
      ">>> from __future__ import division\n",
      ">>> from sympy import *\n",
      ">>> x, y, z, t = symbols('x y z t')\n",
      ">>> k, m, n = symbols('k m n', integer=True)\n",
      ">>> f, g, h = symbols('f g h', cls=Function)\n",
      ">>> init_printing()\n",
      "\n",
      "Documentation can be found at http://www.sympy.org\n",
      "K[0] =  P_est00/(P_est00 + 9)\n",
      "K[1] =  P_est10/(P_est00 + 9)\n"
     ]
    },
    {
     "data": {
      "image/png": "[encoded data removed]",
      "text/latex": [
       "$$\\left[\\begin{matrix}\\frac{P_{est00}}{P_{est00} + 9}\\\\\\frac{P_{est10}}{P_{est00} + 9}\\end{matrix}\\right]$$"
      ],
      "text/plain": [
       "⎡  P_est00  ⎤\n",
       "⎢───────────⎥\n",
       "⎢P_est00 + 9⎥\n",
       "⎢           ⎥\n",
       "⎢  P_est10  ⎥\n",
       "⎢───────────⎥\n",
       "⎣P_est00 + 9⎦"
      ]
     },
     "execution_count": 1,
     "metadata": {},
     "output_type": "execute_result"
    }
   ],
   "source": [
    "# Kalman gain, hidden R'\n",
    "\n",
    "P_est = Matrix([[\"P_est00\", \"P_est01\"],\n",
    "                [\"P_est10\", \"P_est11\"]])\n",
    "H = Matrix([[1, 0]])\n",
    "R = Matrix([9])\n",
    "K=P_est*H.T*(H*P_est*H.T + R)**-1\n",
    "print(\"K[0] = \", K[0])\n",
    "print(\"K[1] = \", K[1])\n",
    "K"
   ]
  },
  {
   "cell_type": "code",
   "execution_count": 71,
   "metadata": {
    "collapsed": false
   },
   "outputs": [
    {
     "name": "stdout",
     "output_type": "stream",
     "text": [
      "state[0] =  P_est00*(-state_est0 + z)/(P_est00 + 9) + state_est0\n",
      "state[1] =  P_est10*(-state_est0 + z)/(P_est00 + 9) + state_est1\n"
     ]
    },
    {
     "data": {
      "image/png": "[encoded data removed]",
      "text/latex": [
       "$$\\left[\\begin{matrix}\\frac{P_{est00} \\left(- state_{est0} + z\\right)}{P_{est00} + 9} + state_{est0}\\\\\\frac{P_{est10} \\left(- state_{est0} + z\\right)}{P_{est00} + 9} + state_{est1}\\end{matrix}\\right]$$"
      ],
      "text/plain": [
       "⎡P_est00⋅(-state_est0 + z)             ⎤\n",
       "⎢───────────────────────── + state_est0⎥\n",
       "⎢       P_est00 + 9                    ⎥\n",
       "⎢                                      ⎥\n",
       "⎢P_est10⋅(-state_est0 + z)             ⎥\n",
       "⎢───────────────────────── + state_est1⎥\n",
       "⎣       P_est00 + 9                    ⎦"
      ]
     },
     "execution_count": 71,
     "metadata": {},
     "output_type": "execute_result"
    }
   ],
   "source": [
    "# State update\n",
    "\n",
    "Xest = Matrix([[\"state_est0\"],[\"state_est1\"]])\n",
    "z = Matrix([\"z\"])\n",
    "\n",
    "X = Xest + K * (z - H*Xest)\n",
    "print(\"state[0] = \", X[0])\n",
    "print(\"state[1] = \", X[1])\n",
    "X"
   ]
  },
  {
   "cell_type": "code",
   "execution_count": 72,
   "metadata": {
    "collapsed": false
   },
   "outputs": [
    {
     "name": "stdout",
     "output_type": "stream",
     "text": [
      "P[0][0] =  P_est00*(-P_est00/(P_est00 + 9) + 1)\n",
      "P[0][1] =  P_est01*(-P_est00/(P_est00 + 9) + 1)\n",
      "P[1][0] =  -P_est00*P_est10/(P_est00 + 9) + P_est10\n",
      "P[1][1] =  -P_est01*P_est10/(P_est00 + 9) + P_est11\n"
     ]
    },
    {
     "data": {
      "image/png": "[encoded data removed]",
      "text/latex": [
       "$$\\left[\\begin{matrix}P_{est00} \\left(- \\frac{P_{est00}}{P_{est00} + 9} + 1\\right) & P_{est01} \\left(- \\frac{P_{est00}}{P_{est00} + 9} + 1\\right)\\\\- \\frac{P_{est00} P_{est10}}{P_{est00} + 9} + P_{est10} & - \\frac{P_{est01} P_{est10}}{P_{est00} + 9} + P_{est11}\\end{matrix}\\right]$$"
      ],
      "text/plain": [
       "⎡        ⎛    P_est00      ⎞          ⎛    P_est00      ⎞⎤\n",
       "⎢P_est00⋅⎜- ─────────── + 1⎟  P_est01⋅⎜- ─────────── + 1⎟⎥\n",
       "⎢        ⎝  P_est00 + 9    ⎠          ⎝  P_est00 + 9    ⎠⎥\n",
       "⎢                                                        ⎥\n",
       "⎢  P_est00⋅P_est10              P_est01⋅P_est10          ⎥\n",
       "⎢- ─────────────── + P_est10  - ─────────────── + P_est11⎥\n",
       "⎣    P_est00 + 9                  P_est00 + 9            ⎦"
      ]
     },
     "execution_count": 72,
     "metadata": {},
     "output_type": "execute_result"
    }
   ],
   "source": [
    "# Update covariance\n",
    "# P = (I-KH)P_est\n",
    "\n",
    "I = Matrix([[1,0],\n",
    "            [0,1]])\n",
    "P = (I-K*H)*P_est\n",
    "print(\"P[0][0] = \", P[0])\n",
    "print(\"P[0][1] = \", P[1])\n",
    "print(\"P[1][0] = \", P[2])\n",
    "print(\"P[1][1] = \", P[3])\n",
    "P"
   ]
  },
  {
   "cell_type": "code",
   "execution_count": null,
   "metadata": {
    "collapsed": true
   },
   "outputs": [],
   "source": []
  }
 ],
 "metadata": {
  "kernelspec": {
   "display_name": "Python 3",
   "language": "python",
   "name": "python3"
  },
  "language_info": {
   "codemirror_mode": {
    "name": "ipython",
    "version": 3
   },
   "file_extension": ".py",
   "mimetype": "text/x-python",
   "name": "python",
   "nbconvert_exporter": "python",
   "pygments_lexer": "ipython3",
   "version": "3.5.0"
  }
 },
 "nbformat": 4,
 "nbformat_minor": 0
}
